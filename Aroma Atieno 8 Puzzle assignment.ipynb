{
 "cells": [
  {
   "cell_type": "markdown",
   "metadata": {},
   "source": [
    "<h1>CS152 Assignment 2: The 8-puzzle</h1>\n",
    "\n",
    "Before you turn in this assignment, make sure everything runs as expected. First, **restart the kernel** (in the menubar, select Kernel$\\rightarrow$Restart) and then run the test cells for each of the questions you have answered.  Note that a grade of 3 for the A* implementation requires all tests in the \"Basic Functionality\" section to be passed.  The test cells pass if they execute with no errors (i.e. all the assertions are passed).\n",
    "\n",
    "Make sure you fill in any place that says `YOUR CODE HERE`.  Be sure to remove the `raise NotImplementedError()` statements as you implement your code - these are simply there as a reminder if you forget to add code where it's needed."
   ]
  },
  {
   "cell_type": "markdown",
   "metadata": {},
   "source": [
    "---"
   ]
  },
  {
   "cell_type": "markdown",
   "metadata": {
    "deletable": false,
    "editable": false,
    "nbgrader": {
     "cell_type": "markdown",
     "checksum": "3582513581b2e5d1806ee2b1117ac019",
     "grade": false,
     "grade_id": "5bb4ce",
     "locked": true,
     "schema_version": 3,
     "solution": false
    }
   },
   "source": [
    "<h1>\n",
    "Question 1    \n",
    "</h1>\n",
    "Define your <code>PuzzleNode</code> class below.  Ensure that you include all attributes that you need to implement an A* search.  If you wish, you can even include member functions, such as a function to generate successor states.  Alternatively, you can code up this functionality later in the <code>solvePuzzle</code> function."
   ]
  },
  {
   "cell_type": "code",
   "execution_count": 1,
   "metadata": {
    "deletable": false,
    "nbgrader": {
     "cell_type": "code",
     "checksum": "4326143183f9b58edcedbc64aed31100",
     "grade": false,
     "grade_id": "b5da05",
     "locked": false,
     "schema_version": 3,
     "solution": true,
     "task": false
    }
   },
   "outputs": [],
   "source": [
    "# Import any packages you need here\n",
    "# Also define any variables as needed\n",
    "import copy\n",
    "from copy import deepcopy\n",
    "# YOUR CODE HERE (OPTIONAL)\n",
    "\n",
    "#Now, define the class PuzzleNode:\n",
    "class PuzzleNode:\n",
    "    \"\"\"\n",
    "    Class PuzzleNode: Provides a structure for performing A* search for the n^2-1 puzzle\n",
    "    \"\"\"\n",
    "    # YOUR CODE HERE\n",
    "    def __init__(self, board, g_cost=0, parent=None): \n",
    "        \n",
    "        self.board = board\n",
    "        self.parent = parent \n",
    "        if self.parent != None:\n",
    "            self.g_cost = parent.g_cost + 1\n",
    "        else:\n",
    "            self.g_cost = 0\n",
    "        self.h_cost = 0\n",
    "        self.pruned = False \n",
    "        self.tot_cost = self.g_cost + self.h_cost\n",
    "    \n",
    "    def __lt__(self,node2):\n",
    "        \n",
    "        \"\"\"\n",
    "        Compares the total costs of nodes\n",
    "        \"\"\"\n",
    "        \n",
    "        #compares the total cost of the nodes, will be useful when doing priority queue at the end(Q3)\n",
    "        return self.tot_cost < node2.tot_cost\n",
    "    \n",
    "    def __str__(self):\n",
    "        \"\"\"\n",
    "        Prints out the grid of the board\n",
    "        \"\"\"\n",
    "        \n",
    "        #initiates empty string to which we are going to add the board entries at any given state\n",
    "        new_string =''\n",
    "        \n",
    "        for i in self.board:\n",
    "            for j in i:\n",
    "                new_string += str(j)\n",
    "                new_string+=' ' \n",
    "            new_string+= '\\n'\n",
    "        return new_string\n",
    "    \n",
    "    \n",
    "    def successor_states(self):\n",
    "        \"\"\"\n",
    "        Generates successor states given a board arrangement\n",
    "        \n",
    "        \"\"\"\n",
    "        \n",
    "        #we can either move 1 up, down right or left\n",
    "        possible_dir = ((1,0),(-1,0),(0,1),(0,-1)) \n",
    "        \n",
    "        #list of adjacent tiles to which we can move\n",
    "        swappable_tiles = []\n",
    "        \n",
    "        #finding the position of the empty tile on the board ,adapted from stack overflow https://stackoverflow.com/questions/15886751/python-get-index-from-list-of-lists\n",
    "        empty_tile = [(i, el.index(0)) for i, el in enumerate(self.board) if 0 in el]\n",
    "        a = empty_tile[0][0]\n",
    "        b = empty_tile [0][1]\n",
    "        #coordinates of our empty tile\n",
    "        empty_pos = (a,b)\n",
    "        \n",
    "        \n",
    "        for direction in possible_dir:\n",
    "            \n",
    "            #using the possible moves to generate coordinates that the blank tile could move to\n",
    "            new_pos = ((direction[0] + empty_pos[0]), direction[1] + empty_pos[1])\n",
    "            \n",
    "            #coordinates of where we will move our empty tile when swapping\n",
    "            r = new_pos[0]\n",
    "            s = new_pos[1]\n",
    "            \n",
    "            #we make a copy of our board\n",
    "            duplicate = self.duplicate_board()\n",
    "            \n",
    "            #checking that these new places it could move to are still within the board\n",
    "            if new_pos[1] >=0 and new_pos[1] <= (len(self.board))-1:\n",
    "                if new_pos[0] >=0 and new_pos[0] <= (len(self.board))-1:\n",
    "                    if empty_pos[0] >= 0 and new_pos[0] <= (len(self.board))-1 :\n",
    "            \n",
    "                        #we swap positions between the blank tile and tiles one move away\n",
    "                        duplicate.board[a][b],duplicate.board[r][s] = duplicate.board[r][s],duplicate.board[a][b] \n",
    "                \n",
    "                #adds the tiles adjacent to the blank one to the list of swappable tiles\n",
    "                swappable_tiles.append(duplicate)\n",
    "                   \n",
    "        #we return a list of acceptable moves\n",
    "        return swappable_tiles\n",
    "    \n",
    "    \n",
    "    def duplicate_board(self): \n",
    "        \n",
    "        #we are making a duplicate of a node \n",
    "        dupe = copy.deepcopy(self.board) \n",
    "        \n",
    "        # we then set the duplicate as a child of the original board\n",
    "        return PuzzleNode(dupe, self.g_cost + 1, parent = self) \n",
    "    \n",
    "\n",
    "    #raise NotImplementedError()"
   ]
  },
  {
   "cell_type": "markdown",
   "metadata": {
    "deletable": false,
    "editable": false,
    "nbgrader": {
     "cell_type": "markdown",
     "checksum": "f523db3048f85be39ef3dc740b53fdba",
     "grade": false,
     "grade_id": "859d2c",
     "locked": true,
     "schema_version": 3,
     "solution": false
    }
   },
   "source": [
    "<h1>\n",
    "Question 2    \n",
    "</h1>\n",
    "Define your heuristic functions using the templates below.  Ensure that you extend the <code>heuristics</code> list to include all the heuristic functions you implement.  Note that state will be given as a list of lists, so ensure your function accepts this format.  You may use packages like numpy if you wish within the functions themselves."
   ]
  },
  {
   "cell_type": "code",
   "execution_count": 2,
   "metadata": {
    "deletable": false,
    "nbgrader": {
     "cell_type": "code",
     "checksum": "686c6cabd6955171ad70aa6fd37d31a9",
     "grade": false,
     "grade_id": "3fb850",
     "locked": false,
     "schema_version": 3,
     "solution": true,
     "task": false
    }
   },
   "outputs": [],
   "source": [
    "# Add any additional code here (e.g. for the memoization extension)\n",
    "\n",
    "# YOUR CODE HERE (OPTIONAL)\n",
    "\n",
    "# Misplaced tiles heuristic\n",
    "def h1(state):\n",
    "    \"\"\"\n",
    "    This function returns the number of misplaced tiles, given the board state\n",
    "    Input:\n",
    "        -state: the board state as a list of lists\n",
    "    Output:\n",
    "        -h: the number of misplaced tiles\n",
    "    \"\"\"\n",
    "    # YOUR CODE HERE\n",
    "    h = 0\n",
    "    \n",
    "    #here , we construct the goal state board so that we can compare it to our current one\n",
    "    goal_state = copy.deepcopy(state)\n",
    "    value = 0\n",
    "\n",
    "    for i in range(len(state)):\n",
    "        for j in range(len(state)): \n",
    "            (goal_state[i][j]) = value\n",
    "            value += 1\n",
    "    \n",
    "    for i in range(len(state)):\n",
    "        for j in range(len(state)):\n",
    "            #ensuring that we don't consider 0 in this calculation as it represents the empty tile\n",
    "            if state[i][j] != 0:\n",
    "                #comparing current value in the tile to the goal state\n",
    "                if state[i][j] != goal_state[i][j]: \n",
    "                    h += 1 \n",
    "    return h\n",
    "\n",
    "\n",
    "# Manhattan distance heuristic\n",
    "def h2(state):\n",
    "    \"\"\"\n",
    "    This function returns the Manhattan distance from the solved state, given the board state\n",
    "    Input:\n",
    "        -state: the board state as a list of lists\n",
    "    Output:\n",
    "        -h: the Manhattan distance from the solved configuration\n",
    "    \"\"\"\n",
    "    # YOUR CODE HERE\n",
    "    h = 0\n",
    "    for i in range(len(state)):\n",
    "        for j in range(len(state)): \n",
    "            #ensuring that we don't consider 0 in this calculation as it represents the empty tile\n",
    "            if state[i][j] != 0:\n",
    "                #finding the coordinates\n",
    "                a = state[i][j]%len(state) \n",
    "                b = state[i][j]//len(state) \n",
    "                \n",
    "                #we find the absolute difference between current and goal states and add it to the manhattan distance\n",
    "                dist = abs(a - j) + abs(b - i)\n",
    "                h+= dist\n",
    "    return h\n",
    "\n",
    "    \n",
    "# Extra heuristic for the extension.  If implemented, modify the function below\n",
    "def h3(state):\n",
    "    \"\"\"\n",
    "    This function returns a heuristic that dominates the Manhattan distance, given the board state\n",
    "    Input:\n",
    "        -state: the board state as a list of lists\n",
    "    Output:\n",
    "        -h: the Heuristic distance of the state from its solved configuration\n",
    "    \"\"\"\n",
    "    return 0\n",
    "\n",
    "# If you implement more than 3 heuristics, then add any extra heuristic functions onto the end of this list.\n",
    "heuristics = [h1, h2, h3]"
   ]
  },
  {
   "cell_type": "markdown",
   "metadata": {
    "deletable": false,
    "editable": false,
    "nbgrader": {
     "cell_type": "markdown",
     "checksum": "591174c27300d0a4d4d96ee841e46810",
     "grade": false,
     "grade_id": "e224d9",
     "locked": true,
     "schema_version": 3,
     "solution": false
    }
   },
   "source": [
    "<h1>\n",
    "Question 3    \n",
    "</h1>\n",
    "Code up your A* search using the SolvePuzzle function within the template below.  Please do not modify the function header, otherwise the automated testing will fail.  You may define other functions or import packages as needed in this cell or by adding additional cells."
   ]
  },
  {
   "cell_type": "code",
   "execution_count": 3,
   "metadata": {
    "deletable": false,
    "nbgrader": {
     "cell_type": "code",
     "checksum": "91dda09c4f5df1db4607bb3b82e81afd",
     "grade": false,
     "grade_id": "328d7b",
     "locked": false,
     "schema_version": 3,
     "solution": true
    }
   },
   "outputs": [],
   "source": [
    "# Import any packages or define any helper functions you need here\n",
    "from queue import PriorityQueue \n",
    "# YOUR CODE HERE (OPTIONAL)\n",
    "# Main solvePuzzle function.\n",
    "def solvePuzzle(state, heuristic):\n",
    "    \"\"\"This function should solve the n**2-1 puzzle for any n > 2 (although it may take too long for n > 4)).\n",
    "    Inputs:\n",
    "        -state: The initial state of the puzzle as a list of lists\n",
    "        -heuristic: a handle to a heuristic function.  Will be one of those defined in Question 2.\n",
    "    Outputs:\n",
    "        -steps: The number of steps to optimally solve the puzzle (excluding the initial state)\n",
    "        -exp: The number of nodes expanded to reach the solution\n",
    "        -max_frontier: The maximum size of the frontier over the whole search\n",
    "        -opt_path: The optimal path as a list of list of lists.  That is, opt_path[:,:,i] should give a list of lists\n",
    "                    that represents the state of the board at the ith step of the solution.\n",
    "        -err: An error code.  If state is not of the appropriate size and dimension, return -1.  For the extention task,\n",
    "          if the state is not solvable, then return -2\n",
    "    \"\"\"\n",
    "    # YOUR CODE HERE\n",
    "    steps = 0\n",
    "    exp = 0\n",
    "    max_frontier = 0\n",
    "    opt_path = 0\n",
    "    err = 0\n",
    "    frontier_size = 0\n",
    "    \n",
    "    #this is the priority queue where we will have our frontier\n",
    "    frontier = PriorityQueue()\n",
    "    \n",
    "    #this is the state in which we are starting from\n",
    "    initial_state = PuzzleNode(state)\n",
    "    \n",
    "    #these are the nodes we have tackled \n",
    "    visited_states = {} \n",
    "    \n",
    "    #computing the goal arrangement for our given state\n",
    "    goal = copy.deepcopy(state)\n",
    "    value = 0\n",
    "    for i in range(len(state)):\n",
    "        for j in range(len(state)): \n",
    "            goal[i][j] = value \n",
    "            value += 1\n",
    "    \n",
    "    #checking to ensure that no values are repeated\n",
    "    values_list = []\n",
    "    for i in range(len(state)):\n",
    "        for j in range(len(state)):\n",
    "            if state[i][j] not in values_list:\n",
    "                values_list.append(state[i][j])\n",
    "    if len(values_list) != (len(state))**2:\n",
    "        print(\"error:some values are repeated\")\n",
    "        err = -1\n",
    "    \n",
    "    \n",
    "    #checking that it is an n*n board by ensuring that no. of rows and columns are equal\n",
    "    if len(state) != len(state[0]):\n",
    "        print(\"error:board not a square matrix\")\n",
    "        err = -1 \n",
    "    \n",
    "    #checking to ensure that all the rows stretch to the full length   \n",
    "    for i in state:\n",
    "        if len(i) != len(state):\n",
    "            print(\"error:rows not of the same length\")\n",
    "            err = -1\n",
    "    \n",
    "    #since we are at the root node, the g_cost = 0\n",
    "    initial_state.g_cost = 0\n",
    "    initial_state.tot_cost = heuristic(initial_state.board)\n",
    "    \n",
    "    #we add the initial state to the frontier\n",
    "    frontier.put(initial_state)\n",
    "    \n",
    "    #increase frontier size by 1 since we have added a node to it\n",
    "    frontier_size += 1\n",
    "    \n",
    "    #we add. it to the visited states\n",
    "    visited_states[str(initial_state.board)] = initial_state \n",
    "    \n",
    "    #we repeat the processes below as long as we have a node in the frontier and have not reached the goal state\n",
    "    while frontier.qsize() > 0:\n",
    "        #updating maximum frontier size\n",
    "        max_frontier = max(frontier_size,max_frontier)\n",
    "        \n",
    "        #getting value with least cost from the frontier, at first, this will just be our initial state\n",
    "        current = frontier.get()\n",
    "        #reducing frontier size by 1 since we have taken off a value\n",
    "        frontier_size -= 1\n",
    "        #if a node has already been pruned, then we don't address it\n",
    "        if current.pruned: \n",
    "            continue\n",
    "        \n",
    "        #checks if we have arrived at the desired arrangement\n",
    "        if current.board == goal:\n",
    "            print(\"You have solved the puzzle!\")\n",
    "            break\n",
    "        \n",
    "        #generating successors of the current state\n",
    "        successors = current.successor_states()\n",
    "        #increasing no. of expanded states by 1 since we have expanded a node to get its descendants\n",
    "        exp += 1\n",
    "        \n",
    "        \n",
    "        for node in successors:\n",
    "            #finding the heuristic value of each successor\n",
    "            node.h_cost = heuristic(node.board)\n",
    "            #adding heuristic value of each successor to their g_cost\n",
    "            node.tot_cost = node.g_cost + node.h_cost \n",
    "            \n",
    "            #adding nodes that have not been tackled to the frontier for consideration\n",
    "            if (str(node.board)) not in visited_states: \n",
    "                frontier.put(node)\n",
    "                \n",
    "                #updating size of frontier after adding the unvisited nodes\n",
    "                frontier_size += 1 \n",
    "                \n",
    "                #adding these nodes to the visited states since we have already put them in the frontier for consideration\n",
    "                visited_states[(str(node.board))] = node\n",
    "            \n",
    "            else:\n",
    "                #comparing the parent's g_cost to that of its successors\n",
    "                if visited_states[str(node.board)].g_cost > current.g_cost + 1:\n",
    "                    \n",
    "                    #removing those whose cost is too high to be considered for next node\n",
    "    \n",
    "                    visited_states[str(node.board)].pruned = True \n",
    "    \n",
    "    #initiating the optimal path list\n",
    "    goal_path = []\n",
    "    goal_path.append(current.board)\n",
    "    #adding each node that was expanded to get to the goal state to the goal_path\n",
    "    while current.parent:\n",
    "        current = current.parent \n",
    "        goal_path.append(current.board)  \n",
    "    steps = len(goal_path)-1\n",
    "    \n",
    "    #reversing the path so as to obtain an intial--->final state solution \n",
    "    opt_path = []\n",
    "    for node in goal_path:\n",
    "        opt_path = [node] + opt_path\n",
    "    \n",
    "    \n",
    "    return steps,exp,max_frontier,opt_path, err\n",
    "    \n",
    "    \n"
   ]
  },
  {
   "cell_type": "markdown",
   "metadata": {
    "deletable": false,
    "editable": false,
    "nbgrader": {
     "cell_type": "markdown",
     "checksum": "93712bce8426499023ace13735ea998d",
     "grade": false,
     "grade_id": "cell-3fc6e687e03655a1",
     "locked": true,
     "schema_version": 3,
     "solution": false,
     "task": false
    }
   },
   "source": [
    "<h1>Extension Questions</h1>\n",
    "\n",
    "The extensions can be implemented by modifying the code from Q2-3 above appropriately.\n",
    "\n",
    "1. <b>Initial state solvability:</b>  Modify your SolvePuzzle function code in Q3 to return -2 if an initial state is not solvable to the goal state.\n",
    "2. <b>Extra heuristic function:</b> Add another heuristic function (e.g. pattern database) that dominates the misplaced tiles and Manhattan distance heuristics to your Q2 code.\n",
    "3. <b>Memoization:</b>  Modify your heuristic function definitions in Q2 by using a Python decorator to speed up heuristic function evaluation\n",
    "\n",
    "There are test cells provided for extension questions 1 and 2."
   ]
  },
  {
   "cell_type": "markdown",
   "metadata": {
    "deletable": false,
    "editable": false,
    "nbgrader": {
     "cell_type": "markdown",
     "checksum": "c89ea5c4d80cc73d321b4d15a043e8b7",
     "grade": false,
     "grade_id": "fb9ccd",
     "locked": true,
     "schema_version": 3,
     "solution": false
    }
   },
   "source": [
    "<h1>Basic Functionality Tests</h1>\n",
    "The cells below contain tests to verify that your code is working properly to be classified as basically functional.  Please note that a grade of <b>3</b> on #aicoding and #search as applicable for each test requires the test to be successfully passed.  <b>If you want to demonstrate some other aspect of your code, then feel free to add additional cells with test code and document what they do.<b>"
   ]
  },
  {
   "cell_type": "code",
   "execution_count": 4,
   "metadata": {
    "deletable": false,
    "editable": false,
    "nbgrader": {
     "cell_type": "code",
     "checksum": "f8d927b41dc95f7b76d81ed7f6cd13ec",
     "grade": true,
     "grade_id": "8fbc24",
     "locked": true,
     "points": 1,
     "schema_version": 3,
     "solution": false
    }
   },
   "outputs": [
    {
     "name": "stdout",
     "output_type": "stream",
     "text": [
      "error:some values are repeated\n"
     ]
    }
   ],
   "source": [
    "## Test for state not correctly defined\n",
    "\n",
    "incorrect_state = [[0,1,2],[2,3,4],[5,6,7]]\n",
    "_,_,_,_,err = solvePuzzle(incorrect_state, lambda state: 0)\n",
    "assert(err == -1)"
   ]
  },
  {
   "cell_type": "code",
   "execution_count": 5,
   "metadata": {
    "deletable": false,
    "editable": false,
    "nbgrader": {
     "cell_type": "code",
     "checksum": "005a7a99916dafeb7180172c66365597",
     "grade": true,
     "grade_id": "cell-5738a2124877e52e",
     "locked": true,
     "points": 2,
     "schema_version": 3,
     "solution": false,
     "task": false
    }
   },
   "outputs": [],
   "source": [
    "## Heuristic function tests for misplaced tiles and manhattan distance\n",
    "\n",
    "# Define the working initial states\n",
    "working_initial_states_8_puzzle = ([[2,3,7],[1,8,0],[6,5,4]], [[7,0,8],[4,6,1],[5,3,2]], [[5,7,6],[2,4,3],[8,1,0]])\n",
    "\n",
    "# Test the values returned by the heuristic functions\n",
    "h_mt_vals = [7,8,7]\n",
    "h_man_vals = [15,17,18]\n",
    "\n",
    "for i in range(0,3):\n",
    "    h_mt = heuristics[0](working_initial_states_8_puzzle[i])\n",
    "    h_man = heuristics[1](working_initial_states_8_puzzle[i])\n",
    "    assert(h_mt == h_mt_vals[i])\n",
    "    assert(h_man == h_man_vals[i])\n"
   ]
  },
  {
   "cell_type": "code",
   "execution_count": 6,
   "metadata": {
    "deletable": false,
    "editable": false,
    "nbgrader": {
     "cell_type": "code",
     "checksum": "293094319e63d67c5f6d94cd7aee0c02",
     "grade": true,
     "grade_id": "cell-99c07d9541559b52",
     "locked": true,
     "points": 4,
     "schema_version": 3,
     "solution": false,
     "task": false
    }
   },
   "outputs": [
    {
     "name": "stdout",
     "output_type": "stream",
     "text": [
      "You have solved the puzzle!\n",
      "You have solved the puzzle!\n",
      "You have solved the puzzle!\n",
      "You have solved the puzzle!\n",
      "You have solved the puzzle!\n",
      "You have solved the puzzle!\n"
     ]
    }
   ],
   "source": [
    "## A* Tests for 3 x 3 boards\n",
    "## This test runs A* with both heuristics and ensures that the same optimal number of steps are found\n",
    "## with each heuristic.\n",
    "\n",
    "# Optimal path to the solution for the first 3 x 3 state\n",
    "opt_path_soln = [[[2, 3, 7], [1, 8, 0], [6, 5, 4]], [[2, 3, 7], [1, 8, 4], [6, 5, 0]], \n",
    "                 [[2, 3, 7], [1, 8, 4], [6, 0, 5]], [[2, 3, 7], [1, 0, 4], [6, 8, 5]], \n",
    "                 [[2, 0, 7], [1, 3, 4], [6, 8, 5]], [[0, 2, 7], [1, 3, 4], [6, 8, 5]], \n",
    "                 [[1, 2, 7], [0, 3, 4], [6, 8, 5]], [[1, 2, 7], [3, 0, 4], [6, 8, 5]], \n",
    "                 [[1, 2, 7], [3, 4, 0], [6, 8, 5]], [[1, 2, 0], [3, 4, 7], [6, 8, 5]], \n",
    "                 [[1, 0, 2], [3, 4, 7], [6, 8, 5]], [[1, 4, 2], [3, 0, 7], [6, 8, 5]], \n",
    "                 [[1, 4, 2], [3, 7, 0], [6, 8, 5]], [[1, 4, 2], [3, 7, 5], [6, 8, 0]], \n",
    "                 [[1, 4, 2], [3, 7, 5], [6, 0, 8]], [[1, 4, 2], [3, 0, 5], [6, 7, 8]], \n",
    "                 [[1, 0, 2], [3, 4, 5], [6, 7, 8]], [[0, 1, 2], [3, 4, 5], [6, 7, 8]]]\n",
    "\n",
    "astar_steps = [17, 25, 28]\n",
    "for i in range(0,3):\n",
    "    steps_mt, expansions_mt, _, opt_path_mt, _ = solvePuzzle(working_initial_states_8_puzzle[i], heuristics[0])\n",
    "    steps_man, expansions_man, _, opt_path_man, _ = solvePuzzle(working_initial_states_8_puzzle[i], heuristics[1])\n",
    "    # Test whether the number of optimal steps is correct and the same\n",
    "    assert(steps_mt == steps_man == astar_steps[i])\n",
    "    # Test whether or not the manhattan distance dominates the misplaced tiles heuristic in every case\n",
    "    assert(expansions_man < expansions_mt)\n",
    "    # For the first state, test that the optimal path is the same\n",
    "    if i == 0:\n",
    "        assert(opt_path_mt == opt_path_soln)\n"
   ]
  },
  {
   "cell_type": "code",
   "execution_count": 7,
   "metadata": {
    "deletable": false,
    "editable": false,
    "nbgrader": {
     "cell_type": "code",
     "checksum": "94ad7f950f87fcc281af1f3946c4e196",
     "grade": true,
     "grade_id": "cell-2981ba2cc7745c22",
     "locked": true,
     "points": 8,
     "schema_version": 3,
     "solution": false,
     "task": false
    }
   },
   "outputs": [
    {
     "name": "stdout",
     "output_type": "stream",
     "text": [
      "You have solved the puzzle!\n",
      "You have solved the puzzle!\n"
     ]
    }
   ],
   "source": [
    "## A* Test for 4 x 4 board\n",
    "## This test runs A* with both heuristics and ensures that the same optimal number of steps are found\n",
    "## with each heuristic.\n",
    "\n",
    "working_initial_state_15_puzzle = [[1,2,6,3],[0,9,5,7],[4,13,10,11],[8,12,14,15]]\n",
    "steps_mt, expansions_mt, _, _, _ = solvePuzzle(working_initial_state_15_puzzle, heuristics[0])\n",
    "steps_man, expansions_man, _, _, _ = solvePuzzle(working_initial_state_15_puzzle, heuristics[1])\n",
    "# Test whether the number of optimal steps is correct and the same\n",
    "assert(steps_mt == steps_man == 9)\n",
    "# Test whether or not the manhattan distance dominates the misplaced tiles heuristic in every case\n",
    "assert(expansions_mt >= expansions_man)"
   ]
  },
  {
   "cell_type": "markdown",
   "metadata": {},
   "source": [
    "## References"
   ]
  },
  {
   "cell_type": "markdown",
   "metadata": {},
   "source": [
    "Belwariar, R. (2018, September 7). A* Search Algorithm - GeeksforGeeks. GeeksforGeeks. https://www.geeksforgeeks.org/a-search-algorithm/\n",
    "\n",
    "Rohan, S. (2022, September 20). Template A*Search. Minerva Forum. https://sle-collaboration.minervaproject.com/?minervaNotebookId=cl7xiiajg010j0j2g4f6573u9&userId=10905&name=Aroma+Atieno&avatar=https%3A//s3.amazonaws.com/picasso.fixtures/Aroma_Atieno_10905_2020-09-01T20%3A03%3A26.357Z&noPresence=1&readOnly=0&isInstructor=0&signature=3c1ed9e7eb6bb262b81b37054ba9808363894cc62f213ecf343694d4dc7b85b2\n",
    "\n",
    "Stack Overflow. (2013, June). Python, get index from list of lists. Stack Overflow. https://stackoverflow.com/questions/15886751/python-get-index-from-list-of-lists"
   ]
  },
  {
   "cell_type": "markdown",
   "metadata": {
    "deletable": false,
    "editable": false,
    "nbgrader": {
     "cell_type": "markdown",
     "checksum": "7251e4aad7b1e19b42a78e54d8e7b920",
     "grade": false,
     "grade_id": "cell-2c262efb90518641",
     "locked": true,
     "schema_version": 3,
     "solution": false,
     "task": false
    }
   },
   "source": [
    "<h1>Extension Tests</h1>\n",
    "The cells below can be used to test the extension questions.  Memoization if implemented will be tested on the final submission - you can test it yourself by testing the execution time of the heuristic functions with and without it."
   ]
  },
  {
   "cell_type": "code",
   "execution_count": 8,
   "metadata": {
    "deletable": false,
    "editable": false,
    "nbgrader": {
     "cell_type": "code",
     "checksum": "efc4b74c95e814a4fb07d2c5ed26f337",
     "grade": true,
     "grade_id": "cell-21cada9978e9a1bb",
     "locked": true,
     "points": 16,
     "schema_version": 3,
     "solution": false,
     "task": false
    }
   },
   "outputs": [
    {
     "ename": "AssertionError",
     "evalue": "",
     "output_type": "error",
     "traceback": [
      "\u001b[0;31m---------------------------------------------------------------------------\u001b[0m",
      "\u001b[0;31mAssertionError\u001b[0m                            Traceback (most recent call last)",
      "\u001b[0;32m<ipython-input-8-91931be96ab8>\u001b[0m in \u001b[0;36m<module>\u001b[0;34m\u001b[0m\n\u001b[1;32m      3\u001b[0m \u001b[0munsolvable_initial_state\u001b[0m \u001b[0;34m=\u001b[0m \u001b[0;34m[\u001b[0m\u001b[0;34m[\u001b[0m\u001b[0;36m7\u001b[0m\u001b[0;34m,\u001b[0m\u001b[0;36m5\u001b[0m\u001b[0;34m,\u001b[0m\u001b[0;36m6\u001b[0m\u001b[0;34m]\u001b[0m\u001b[0;34m,\u001b[0m\u001b[0;34m[\u001b[0m\u001b[0;36m2\u001b[0m\u001b[0;34m,\u001b[0m\u001b[0;36m4\u001b[0m\u001b[0;34m,\u001b[0m\u001b[0;36m3\u001b[0m\u001b[0;34m]\u001b[0m\u001b[0;34m,\u001b[0m\u001b[0;34m[\u001b[0m\u001b[0;36m8\u001b[0m\u001b[0;34m,\u001b[0m\u001b[0;36m1\u001b[0m\u001b[0;34m,\u001b[0m\u001b[0;36m0\u001b[0m\u001b[0;34m]\u001b[0m\u001b[0;34m]\u001b[0m\u001b[0;34m\u001b[0m\u001b[0;34m\u001b[0m\u001b[0m\n\u001b[1;32m      4\u001b[0m \u001b[0m_\u001b[0m\u001b[0;34m,\u001b[0m\u001b[0m_\u001b[0m\u001b[0;34m,\u001b[0m\u001b[0m_\u001b[0m\u001b[0;34m,\u001b[0m\u001b[0m_\u001b[0m\u001b[0;34m,\u001b[0m\u001b[0merr\u001b[0m \u001b[0;34m=\u001b[0m \u001b[0msolvePuzzle\u001b[0m\u001b[0;34m(\u001b[0m\u001b[0munsolvable_initial_state\u001b[0m\u001b[0;34m,\u001b[0m \u001b[0;32mlambda\u001b[0m \u001b[0mstate\u001b[0m\u001b[0;34m:\u001b[0m \u001b[0;36m0\u001b[0m\u001b[0;34m)\u001b[0m\u001b[0;34m\u001b[0m\u001b[0;34m\u001b[0m\u001b[0m\n\u001b[0;32m----> 5\u001b[0;31m \u001b[0;32massert\u001b[0m\u001b[0;34m(\u001b[0m\u001b[0merr\u001b[0m \u001b[0;34m==\u001b[0m \u001b[0;34m-\u001b[0m\u001b[0;36m2\u001b[0m\u001b[0;34m)\u001b[0m\u001b[0;34m\u001b[0m\u001b[0;34m\u001b[0m\u001b[0m\n\u001b[0m",
      "\u001b[0;31mAssertionError\u001b[0m: "
     ]
    }
   ],
   "source": [
    "## Puzzle solvability test\n",
    "\n",
    "unsolvable_initial_state = [[7,5,6],[2,4,3],[8,1,0]]\n",
    "_,_,_,_,err = solvePuzzle(unsolvable_initial_state, lambda state: 0)\n",
    "assert(err == -2)"
   ]
  },
  {
   "cell_type": "code",
   "execution_count": null,
   "metadata": {
    "deletable": false,
    "editable": false,
    "nbgrader": {
     "cell_type": "code",
     "checksum": "9b7ebb02bcf675ab3a5157eaa1155763",
     "grade": true,
     "grade_id": "cell-8c7a414efc152379",
     "locked": true,
     "points": 32,
     "schema_version": 3,
     "solution": false,
     "task": false
    }
   },
   "outputs": [],
   "source": [
    "## Extra heuristic function test.  \n",
    "## This tests that for all initial conditions, the new heuristic dominates over the manhattan distance.\n",
    "\n",
    "dom = 0\n",
    "for i in range(0,3):\n",
    "    steps_new, expansions_new, _, _, _ = solvePuzzle(working_initial_states_8_puzzle[i], heuristics[2])\n",
    "    steps_man, expansions_man, _, _, _ = solvePuzzle(working_initial_states_8_puzzle[i], heuristics[1])\n",
    "    # Test whether the number of optimal steps is correct and the same\n",
    "    assert(steps_new == steps_man == astar_steps[i])\n",
    "    # Test whether or not the manhattan distance is dominated by the new heuristic in every case, by checking\n",
    "    # the number of nodes expanded\n",
    "    dom = expansions_man - expansions_new\n",
    "    assert(dom > 0)"
   ]
  },
  {
   "cell_type": "code",
   "execution_count": null,
   "metadata": {
    "deletable": false,
    "editable": false,
    "nbgrader": {
     "cell_type": "code",
     "checksum": "af551e00bc8334100b7cf901ece597a2",
     "grade": true,
     "grade_id": "cell-09f710b6aa2e3fa3",
     "locked": true,
     "points": 64,
     "schema_version": 3,
     "solution": false,
     "task": false
    }
   },
   "outputs": [],
   "source": [
    "## Memoization test - will be carried out after submission"
   ]
  }
 ],
 "metadata": {
  "kernelspec": {
   "display_name": "Python 3",
   "language": "python",
   "name": "python3"
  },
  "language_info": {
   "codemirror_mode": {
    "name": "ipython",
    "version": 3
   },
   "file_extension": ".py",
   "mimetype": "text/x-python",
   "name": "python",
   "nbconvert_exporter": "python",
   "pygments_lexer": "ipython3",
   "version": "3.8.8"
  }
 },
 "nbformat": 4,
 "nbformat_minor": 1
}
